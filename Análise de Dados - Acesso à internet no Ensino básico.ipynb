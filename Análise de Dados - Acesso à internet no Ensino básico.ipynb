{
 "cells": [
  {
   "cell_type": "markdown",
   "metadata": {},
   "source": [
    "# Análise das escolas sem internet no Brasil"
   ]
  },
  {
   "cell_type": "code",
   "execution_count": 33,
   "metadata": {},
   "outputs": [],
   "source": [
    "import pandas as pd\n",
    "import matplotlib.pyplot as plt"
   ]
  },
  {
   "cell_type": "markdown",
   "metadata": {},
   "source": [
    "### Arquivos extraídos para análise"
   ]
  },
  {
   "cell_type": "code",
   "execution_count": 34,
   "metadata": {},
   "outputs": [],
   "source": [
    "df_2014 = pd.read_csv ('ESCOLAS-2014.CSV',delimiter = '|', encoding = 'iso-8859-1', usecols = ['ID_INTERNET'])\n",
    "df_2015 = pd.read_csv ('ESCOLAS-2015.CSV',delimiter = '|', encoding = 'iso-8859-1', usecols = ['IN_INTERNET'])\n",
    "df_2016 = pd.read_csv ('ESCOLAS-2016.CSV',delimiter = '|', encoding = 'iso-8859-1', usecols = ['IN_INTERNET'])\n",
    "df_2017 = pd.read_csv ('ESCOLAS-2017.CSV',delimiter = '|', encoding = 'iso-8859-1', usecols = ['IN_INTERNET'])\n",
    "df_2018 = pd.read_csv ('ESCOLAS-2018.CSV',delimiter = '|', encoding = 'iso-8859-1', usecols = ['IN_INTERNET'])"
   ]
  },
  {
   "cell_type": "code",
   "execution_count": 35,
   "metadata": {},
   "outputs": [],
   "source": [
    "internet_2014 = (df_2014.query('ID_INTERNET == 0')['ID_INTERNET'].count())\n",
    "internet_2015 = (df_2015.query('IN_INTERNET == 0')['IN_INTERNET'].count())\n",
    "internet_2016 = (df_2016.query('IN_INTERNET == 0')['IN_INTERNET'].count())\n",
    "internet_2017 = (df_2017.query('IN_INTERNET == 0')['IN_INTERNET'].count())\n",
    "internet_2018 = (df_2018.query('IN_INTERNET == 0')['IN_INTERNET'].count())"
   ]
  },
  {
   "cell_type": "code",
   "execution_count": 36,
   "metadata": {},
   "outputs": [
    {
     "name": "stdout",
     "output_type": "stream",
     "text": [
      "Em 2014, 31673 escolas não tinham acesso à internet.\n",
      "Em 2015, 64777 escolas não tinham acesso à internet.\n",
      "Em 2016, 58922 escolas não tinham acesso à internet.\n",
      "Em 2017, 60141 escolas não tinham acesso à internet.\n",
      "Em 2018, 49877 escolas não tinham acesso à internet.\n"
     ]
    }
   ],
   "source": [
    "print(f'Em 2014, {internet_2014} escolas não tinham acesso à internet.')\n",
    "print(f'Em 2015, {internet_2015} escolas não tinham acesso à internet.')\n",
    "print(f'Em 2016, {internet_2016} escolas não tinham acesso à internet.')\n",
    "print(f'Em 2017, {internet_2017} escolas não tinham acesso à internet.')\n",
    "print(f'Em 2018, {internet_2018} escolas não tinham acesso à internet.')"
   ]
  },
  {
   "cell_type": "markdown",
   "metadata": {},
   "source": [
    "### Variáveis"
   ]
  },
  {
   "cell_type": "code",
   "execution_count": 43,
   "metadata": {
    "scrolled": true
   },
   "outputs": [
    {
     "data": {
      "image/png": "[encoded data removed]",
      "text/plain": [
       "<Figure size 432x288 with 1 Axes>"
      ]
     },
     "metadata": {
      "needs_background": "light"
     },
     "output_type": "display_data"
    }
   ],
   "source": [
    "x = [2014, 2015, 2016, 2017, 2018]\n",
    "y = [(internet_2014), (internet_2015), (internet_2016), (internet_2017), (internet_2018)]\n",
    
    "plt.title('ESCOLAS SEM ACESSO À INTERNET')\n",
    "plt.xlabel('ANO')\n",
    "plt.ylabel('ESCOLAS')\n",
    "plt.plot(x, y)\n",
    "plt.bar(x, y)\n",
    "plt.show()"
   ]
  },
  {
   "cell_type": "code",
   "execution_count": null,
   "metadata": {},
   "outputs": [],
   "source": []
  }
 ],
 "metadata": {
  "kernelspec": {
   "display_name": "Python 3",
   "language": "python",
   "name": "python3"
  },
  "language_info": {
   "codemirror_mode": {
    "name": "ipython",
    "version": 3
   },
   "file_extension": ".py",
   "mimetype": "text/x-python",
   "name": "python",
   "nbconvert_exporter": "python",
   "pygments_lexer": "ipython3",
   "version": "3.7.4"
  }
 },
 "nbformat": 4,
 "nbformat_minor": 2
}
